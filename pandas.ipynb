{
  "nbformat": 4,
  "nbformat_minor": 0,
  "metadata": {
    "colab": {
      "provenance": [],
      "authorship_tag": "ABX9TyN7kuH5uVGaeUUqOcrrS6DH",
      "include_colab_link": true
    },
    "kernelspec": {
      "name": "python3",
      "display_name": "Python 3"
    },
    "language_info": {
      "name": "python"
    }
  },
  "cells": [
    {
      "cell_type": "markdown",
      "metadata": {
        "id": "view-in-github",
        "colab_type": "text"
      },
      "source": [
        "<a href=\"https://colab.research.google.com/github/AgustinBustos/teaching/blob/main/pandas.ipynb\" target=\"_parent\"><img src=\"https://colab.research.google.com/assets/colab-badge.svg\" alt=\"Open In Colab\"/></a>"
      ]
    },
    {
      "cell_type": "code",
      "execution_count": null,
      "metadata": {
        "id": "4bqW_pV_GZvZ"
      },
      "outputs": [],
      "source": [
        "import pandas as pd\n",
        "import plotly.express as px"
      ]
    },
    {
      "cell_type": "code",
      "source": [
        "pd.read_csv\n",
        "pd.read_excel\n",
        "pd.to_datetime\n",
        "ds.astype\n",
        "ds.unique\n",
        "df.loc[rows,cols]\n",
        "df.groupby\n",
        "pd.concat\n",
        "df.merge\n",
        "df.agg\n",
        "df.T\n",
        "df.stack\n",
        "df.unstack\n",
        "ds.isna\n",
        "ds >\n",
        "ds ==\n",
        "ds.apply\n",
        "ds *\n",
        "ds +\n",
        "ds -\n",
        "ds /\n",
        "np.f(ds)\n",
        "df.reset_index\n",
        "df.rename\n",
        "pd.DataFrame\n",
        "pd.get_dummies"
      ],
      "metadata": {
        "id": "pksJvIB3GlA5"
      },
      "execution_count": null,
      "outputs": []
    }
  ]
}